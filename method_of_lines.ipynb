{
 "cells": [
  {
   "cell_type": "code",
   "execution_count": 1612,
   "metadata": {
    "collapsed": false
   },
   "outputs": [
    {
     "name": "stdout",
     "output_type": "stream",
     "text": [
      "Populating the interactive namespace from numpy and matplotlib\n"
     ]
    }
   ],
   "source": [
    "%pylab inline\n",
    "from __future__ import division\n",
    "import cmath\n",
    "import matplotlib.animation as animation\n",
    "from scipy.io import wavfile\n",
    "import wave, struct"
   ]
  },
  {
   "cell_type": "code",
   "execution_count": 1627,
   "metadata": {
    "collapsed": true
   },
   "outputs": [],
   "source": [
    "from tempfile import NamedTemporaryFile\n",
    "\n",
    "VIDEO_TAG = \"\"\"<video controls>\n",
    " <source src=\"data:video/x-m4v;base64,{0}\" type=\"video/mp4\">\n",
    " Your browser does not support the video tag.\n",
    "</video>\"\"\"\n",
    "\n",
    "def anim_to_html(anim):\n",
    "    if not hasattr(anim, '_encoded_video'):\n",
    "        with NamedTemporaryFile(suffix='.mp4') as f:\n",
    "            anim.save(f.name, fps=20, extra_args=['-vcodec', 'libx264'])\n",
    "            video = open(f.name, \"rb\").read()\n",
    "        anim._encoded_video = video.encode(\"base64\")\n",
    "    \n",
    "    return VIDEO_TAG.format(anim._encoded_video)\n",
    "\n",
    "\n",
    "from IPython.display import HTML\n",
    "\n",
    "def display_animation(anim):\n",
    "    plt.close(anim._fig)\n",
    "    return HTML(anim_to_html(anim))"
   ]
  },
  {
   "cell_type": "markdown",
   "metadata": {
    "collapsed": false
   },
   "source": [
    "r_min=0.3\n",
    "r_start=r_min\n",
    "r_end=200\n",
    "r_steps=1000\n",
    "r_grid= (r_end-r_start)/r_steps\n",
    "r=linspace(r_start,r_end,r_steps)\n",
    "r_0= 2.0\n",
    "sig= 0.25\n",
    "c= 0\n",
    "m= 1"
   ]
  },
  {
   "cell_type": "code",
   "execution_count": 1635,
   "metadata": {
    "collapsed": false
   },
   "outputs": [],
   "source": [
    "Y_0=lambda r: (r-r_min)**2 * exp( -(r-r_0)**2/(2*sig**2) )"
   ]
  },
  {
   "cell_type": "code",
   "execution_count": 1636,
   "metadata": {
    "collapsed": false
   },
   "outputs": [],
   "source": [
    "S= lambda i,j: (  (c*m)**2/r[i]**4 - (m**2-0.25)/r[i] )*Y[i,j] + (r_grid)**(-2)*(Y[i+1,j] -2*Y[i,j] + Y[i-1,j]) "
   ]
  },
  {
   "cell_type": "code",
   "execution_count": 1639,
   "metadata": {
    "collapsed": false
   },
   "outputs": [],
   "source": [
    "Y=np.empty((r_steps,t_steps),dtype=np.complex_)\n",
    "K=np.empty((r_steps,t_steps),dtype=np.complex_)"
   ]
  },
  {
   "cell_type": "code",
   "execution_count": 1640,
   "metadata": {
    "collapsed": false
   },
   "outputs": [],
   "source": [
    "r_min=1\n",
    "r_start=r_min\n",
    "r_end=10\n",
    "r_steps=270 #5000\n",
    "r_grid= (r_end-r_start)/r_steps\n",
    "r=linspace(r_start,r_end,r_steps)\n",
    "r_0= 2.0\n",
    "sig= 0.25\n",
    "c= 0.5\n",
    "m= 1"
   ]
  },
  {
   "cell_type": "code",
   "execution_count": 1641,
   "metadata": {
    "collapsed": true
   },
   "outputs": [],
   "source": [
    "t_start=0\n",
    "t_end=10  #100\n",
    "t_steps=10000 #6000\n",
    "t_grid= (t_end-t_start)/t_steps\n",
    "t=linspace(t_start, t_end, t_steps )"
   ]
  },
  {
   "cell_type": "code",
   "execution_count": 1642,
   "metadata": {
    "collapsed": false
   },
   "outputs": [],
   "source": [
    "#set initial condition\n",
    "Y[:,0]= Y_0(r)"
   ]
  },
  {
   "cell_type": "code",
   "execution_count": 1643,
   "metadata": {
    "collapsed": false
   },
   "outputs": [
    {
     "data": {
      "text/plain": [
       "[<matplotlib.lines.Line2D at 0x23a49ea50>]"
      ]
     },
     "execution_count": 1643,
     "metadata": {},
     "output_type": "execute_result"
    },
    {
     "data": {
      "image/png": "[encoded data removed]",
      "text/plain": [
       "<matplotlib.figure.Figure at 0x23a77c8d0>"
      ]
     },
     "metadata": {},
     "output_type": "display_data"
    }
   ],
   "source": [
    "plt.plot (r,Y[:,0])"
   ]
  },
  {
   "cell_type": "code",
   "execution_count": 1644,
   "metadata": {
    "collapsed": false
   },
   "outputs": [],
   "source": [
    "#for j in range(0,t_steps-1): \n",
    " #   for i in range (1,r_steps-1):\n",
    "  #      K[i,j+1]= K[i,j] + t_grid*(r_grid)**(-2)*(Y[i+1,j] -2*Y[i,j] + Y[i-1,j])\n",
    "   #     Y[i,j+1]= Y[i,j] + t_grid*K[i,j]"
   ]
  },
  {
   "cell_type": "code",
   "execution_count": 1645,
   "metadata": {
    "collapsed": false
   },
   "outputs": [],
   "source": [
    "for j in range(0,t_steps-1): \n",
    "    for i in range (1,r_steps-1):\n",
    "        K[i,j+1]= K[i,j] + t_grid*( (-2j*c*m*K[i,j])/r[i]**2 +  S(i,j) )\n",
    "        Y[i,j+1]= Y[i,j] + t_grid*K[i,j]"
   ]
  },
  {
   "cell_type": "code",
   "execution_count": 1646,
   "metadata": {
    "collapsed": false
   },
   "outputs": [
    {
     "data": {
      "text/plain": [
       "[<matplotlib.lines.Line2D at 0x23aaaf090>]"
      ]
     },
     "execution_count": 1646,
     "metadata": {},
     "output_type": "execute_result"
    },
    {
     "data": {
      "image/png": "[encoded data removed]",
      "text/plain": [
       "<matplotlib.figure.Figure at 0x23a9770d0>"
      ]
     },
     "metadata": {},
     "output_type": "display_data"
    }
   ],
   "source": [
    "plt.plot (r,Y[:,0])"
   ]
  },
  {
   "cell_type": "code",
   "execution_count": 1647,
   "metadata": {
    "collapsed": false
   },
   "outputs": [
    {
     "data": {
      "text/plain": [
       "[<matplotlib.lines.Line2D at 0x23a96db10>]"
      ]
     },
     "execution_count": 1647,
     "metadata": {},
     "output_type": "execute_result"
    },
    {
     "data": {
      "image/png": "[encoded data removed]",
      "text/plain": [
       "<matplotlib.figure.Figure at 0x23a83dd10>"
      ]
     },
     "metadata": {},
     "output_type": "display_data"
    }
   ],
   "source": [
    "plt.plot (r,Y[:,3000].real)"
   ]
  },
  {
   "cell_type": "code",
   "execution_count": 1648,
   "metadata": {
    "collapsed": false,
    "scrolled": true
   },
   "outputs": [
    {
     "data": {
      "image/png": "[encoded data removed]",
      "text/plain": [
       "<matplotlib.figure.Figure at 0x23aaf4610>"
      ]
     },
     "metadata": {},
     "output_type": "display_data"
    }
   ],
   "source": [
    "# First set up the figure, the axis, and the plot element we want to animate\n",
    "fig = plt.figure()\n",
    "ax = plt.axes(xlim=(r_start-1, r_end), ylim=(-1.1,1.1))\n",
    "line, = ax.plot([], [], lw=1)\n",
    "\n",
    "# initialization function: plot the background of each frame\n",
    "def init():\n",
    "    line.set_data([], [])\n",
    "    return line,\n",
    "\n",
    "# animation function.  This is called sequentially\n",
    "def animate(i):\n",
    "    j=int(i)\n",
    "    x = r\n",
    "    y = Y[:,i].real\n",
    "    line.set_data(x, y)\n",
    "    return line,\n",
    "\n",
    "# call the animator.  blit=True means only re-draw the parts that have changed.\n",
    "anim = animation.FuncAnimation(fig, animate, frames=range(0,t_steps), interval=100, blit=True) #init_func=init\n",
    "#t_steps\n",
    "anim.save('c_0.5_m_1_eqn.mp4', fps=550, dpi=90) #Frame per second controls speed, dpi controls the quality \n",
    "\n",
    "\n",
    "# call our new function to display the animation\n",
    "#display_animation(anim)"
   ]
  },
  {
   "cell_type": "code",
   "execution_count": 1626,
   "metadata": {
    "collapsed": false
   },
   "outputs": [],
   "source": [
    "waveFile = wave.open('outm3.wav', 'w')\n",
    "waveFile.setnchannels(2)\n",
    "waveFile.setsampwidth(1)\n",
    "waveFile.setframerate(8000) #44000\n",
    "#for i in range(len(x)):\n",
    "waveFile.writeframesraw(Y)\n",
    "waveFile.close()"
   ]
  },
  {
   "cell_type": "code",
   "execution_count": null,
   "metadata": {
    "collapsed": true
   },
   "outputs": [],
   "source": []
  }
 ],
 "metadata": {
  "kernelspec": {
   "display_name": "Python 2",
   "language": "python",
   "name": "python2"
  },
  "language_info": {
   "codemirror_mode": {
    "name": "ipython",
    "version": 2
   },
   "file_extension": ".py",
   "mimetype": "text/x-python",
   "name": "python",
   "nbconvert_exporter": "python",
   "pygments_lexer": "ipython2",
   "version": "2.7.10"
  }
 },
 "nbformat": 4,
 "nbformat_minor": 0
}
